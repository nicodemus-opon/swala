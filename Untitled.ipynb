{
 "cells": [
  {
   "cell_type": "markdown",
   "metadata": {},
   "source": [
    "##### create:\n",
    "\"users>,,,,\"\n",
    "##### read:\n",
    "\"users<0,1,2<(0=='nico')\"\n",
    "##### update:\n",
    "\"users>nico,opon,james,otieno>(0=='nico')\"\n",
    "##### delete:\n",
    "\"users!(0=='nico')\"\n"
   ]
  },
  {
   "cell_type": "code",
   "execution_count": 5,
   "metadata": {},
   "outputs": [
    {
     "name": "stdout",
     "output_type": "stream",
     "text": [
      "[['lu', '23'], ['nicodemus', '11060'], ['amos', '123'], ['nicopon', '890'], ['matter', 'opon']]\n"
     ]
    }
   ],
   "source": [
    "from flatfile import flat\n",
    "db=flat(\"nico\")\n",
    "print(db.exec(\"users<*\"))"
   ]
  },
  {
   "cell_type": "code",
   "execution_count": null,
   "metadata": {},
   "outputs": [],
   "source": [
    "users??huu,huuu,huuu,huuuu"
   ]
  }
 ],
 "metadata": {
  "kernelspec": {
   "display_name": "Python 3",
   "language": "python",
   "name": "python3"
  },
  "language_info": {
   "codemirror_mode": {
    "name": "ipython",
    "version": 3
   },
   "file_extension": ".py",
   "mimetype": "text/x-python",
   "name": "python",
   "nbconvert_exporter": "python",
   "pygments_lexer": "ipython3",
   "version": "3.6.5"
  }
 },
 "nbformat": 4,
 "nbformat_minor": 2
}
